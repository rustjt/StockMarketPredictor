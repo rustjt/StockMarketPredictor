{
  "nbformat": 4,
  "nbformat_minor": 0,
  "metadata": {
    "colab": {
      "provenance": []
    },
    "kernelspec": {
      "name": "python3",
      "display_name": "Python 3"
    },
    "language_info": {
      "name": "python"
    }
  },
  "cells": [
    {
      "cell_type": "markdown",
      "source": [
        "# Machine Learning Project to Predict Stock Market Activity\n",
        "*Created by Jordan Rust and Jenelle Dobyns*\n",
        "\n",
        "## Introduction\n",
        "\n",
        "The goal of this project is to be able to predict the future value of a company's stock. This is a difficult task, as predicting how the stock market will perform involves many factors. The share prices are dynamic and volatile, meaning the predictions will be difficult to make with high accuracy.\n",
        "\n",
        "## Methods\n",
        "\n",
        "To accomplish this, we will create a Long Short Term Memory Network (LSTM). This is a recurrent neural network for learning long-term dependencies, commonly used for predicting time-series data.\n",
        "\n",
        "For the purpose of this assignment, we will use technical analysis to determine how stocks may change. This means measurable data from stock market activities (stock prices, returns, volume of trades, etc.). This data is relatively short-termed and affected by current events, so the accuracy of our predictions will decrease the further in the future we go.\n",
        "\n",
        "### The Dataset\n",
        "\n",
        "Predicting the stock market requires a focused approach, so the first step will be looking into one company at a time.\n",
        "\n",
        "Microsoft has been public since 1986 to 3/23/2022, meaning there is a lot of data that we can use to train our algorithm with. We have a CSV file with the following information on it\n",
        "\n",
        "| Term       | Description |\n",
        "| :----------- | :-----------  |\n",
        "| Date        | Day market was open          |\n",
        "| Open        | Price from the first transaction of a trading day | \n",
        "| High        | Maximum price in a trading day        |\n",
        "| Low        | Minimum price in a trading day        |\n",
        "| Close        | Price from the last transaction of a trading day        |\n",
        "| Adjacent Close  | Closing price adjusted     |\n",
        "| Volume        | Number of units traded in a day   |\n",
        "\n",
        "### The Process\n",
        "\n",
        "First we need to get the data into a workable state. From there we create our model and fit our data to the model. Once it is trained, we can determine how accurate our predictions are to the real data\n",
        "\n",
        "To determine if our predictions were as good as we could make them, we will also be using a few other models to compare which is the most accurate. We will test with Random Forest, Support Vector Machine (SVM), K-nearest neighbor, and Naive Bayesian.\n",
        "\n",
        "To determine the ranking of models, we will use Root Mean Square Deviation (RMSE) and Mean Absolute Percentage Error (MAPE). For both of these measurements, we want to have lower values.\n",
        "\n"
      ],
      "metadata": {
        "id": "9UqxlzH982r1"
      }
    },
    {
      "cell_type": "code",
      "execution_count": null,
      "metadata": {
        "id": "2aFNId7WX8Vk"
      },
      "outputs": [],
      "source": [
        "#Importing the Libraries\n",
        "import pandas as pd                  \n",
        "import numpy as np\n",
        "%matplotlib inline\n",
        "import matplotlib. pyplot as plt\n",
        "import matplotlib\n",
        "from sklearn.preprocessing import MinMaxScaler\n",
        "from keras.layers import LSTM, Dense, Dropout\n",
        "from sklearn.model_selection import TimeSeriesSplit\n",
        "from sklearn.metrics import mean_squared_error, r2_score\n",
        "import matplotlib. dates as mandates\n",
        "from sklearn.preprocessing import MinMaxScaler\n",
        "from sklearn import linear_model\n",
        "from keras.models import Sequential\n",
        "from keras.layers import Dense\n",
        "import keras.backend as K\n",
        "from keras.callbacks import EarlyStopping\n",
        "from keras.optimizers import Adam\n",
        "from keras.models import load_model\n",
        "from keras.layers import LSTM\n",
        "from keras.utils.vis_utils import plot_model"
      ]
    },
    {
      "cell_type": "code",
      "source": [
        "#Get the Dataset\n",
        "df=pd.read_csv('/content/drive/MyDrive/Colab Notebooks/MSFT.csv',na_values=['null'],index_col='Date',parse_dates=True,infer_datetime_format=True)\n",
        "df['1990']"
      ],
      "metadata": {
        "colab": {
          "base_uri": "https://localhost:8080/",
          "height": 511
        },
        "id": "UAKWphpq-22l",
        "outputId": "5e0686fd-9b1a-4c51-81a2-707f5759ece4"
      },
      "execution_count": null,
      "outputs": [
        {
          "output_type": "stream",
          "name": "stderr",
          "text": [
            "<ipython-input-6-f269b0c53dba>:3: FutureWarning: Indexing a DataFrame with a datetimelike index using a single string to slice the rows, like `frame[string]`, is deprecated and will be removed in a future version. Use `frame.loc[string]` instead.\n",
            "  df['1990']\n"
          ]
        },
        {
          "output_type": "execute_result",
          "data": {
            "text/plain": [
              "                Open      High       Low     Close  Adj Close     Volume\n",
              "Date                                                                    \n",
              "1990-01-02  0.605903  0.616319  0.598090  0.616319   0.389448   53035200\n",
              "1990-01-03  0.621528  0.626736  0.614583  0.619792   0.391642  113774400\n",
              "1990-01-04  0.619792  0.638889  0.616319  0.638021   0.403161  125740800\n",
              "1990-01-05  0.635417  0.638889  0.621528  0.622396   0.393288   69566400\n",
              "1990-01-08  0.621528  0.631944  0.614583  0.631944   0.399321   58982400\n",
              "...              ...       ...       ...       ...        ...        ...\n",
              "1990-12-24  1.048611  1.048611  1.038194  1.045139   0.660416   13550400\n",
              "1990-12-26  1.045139  1.052083  1.034722  1.041667   0.658222   16214400\n",
              "1990-12-27  1.041667  1.045139  1.034722  1.038194   0.656028   22629600\n",
              "1990-12-28  1.034722  1.045139  1.031250  1.041667   0.658222   20268000\n",
              "1990-12-31  1.041667  1.045139  1.034722  1.045139   0.660416   23702400\n",
              "\n",
              "[253 rows x 6 columns]"
            ],
            "text/html": [
              "\n",
              "  <div id=\"df-c4502dce-56df-4080-9ec1-d5394c357c4f\">\n",
              "    <div class=\"colab-df-container\">\n",
              "      <div>\n",
              "<style scoped>\n",
              "    .dataframe tbody tr th:only-of-type {\n",
              "        vertical-align: middle;\n",
              "    }\n",
              "\n",
              "    .dataframe tbody tr th {\n",
              "        vertical-align: top;\n",
              "    }\n",
              "\n",
              "    .dataframe thead th {\n",
              "        text-align: right;\n",
              "    }\n",
              "</style>\n",
              "<table border=\"1\" class=\"dataframe\">\n",
              "  <thead>\n",
              "    <tr style=\"text-align: right;\">\n",
              "      <th></th>\n",
              "      <th>Open</th>\n",
              "      <th>High</th>\n",
              "      <th>Low</th>\n",
              "      <th>Close</th>\n",
              "      <th>Adj Close</th>\n",
              "      <th>Volume</th>\n",
              "    </tr>\n",
              "    <tr>\n",
              "      <th>Date</th>\n",
              "      <th></th>\n",
              "      <th></th>\n",
              "      <th></th>\n",
              "      <th></th>\n",
              "      <th></th>\n",
              "      <th></th>\n",
              "    </tr>\n",
              "  </thead>\n",
              "  <tbody>\n",
              "    <tr>\n",
              "      <th>1990-01-02</th>\n",
              "      <td>0.605903</td>\n",
              "      <td>0.616319</td>\n",
              "      <td>0.598090</td>\n",
              "      <td>0.616319</td>\n",
              "      <td>0.389448</td>\n",
              "      <td>53035200</td>\n",
              "    </tr>\n",
              "    <tr>\n",
              "      <th>1990-01-03</th>\n",
              "      <td>0.621528</td>\n",
              "      <td>0.626736</td>\n",
              "      <td>0.614583</td>\n",
              "      <td>0.619792</td>\n",
              "      <td>0.391642</td>\n",
              "      <td>113774400</td>\n",
              "    </tr>\n",
              "    <tr>\n",
              "      <th>1990-01-04</th>\n",
              "      <td>0.619792</td>\n",
              "      <td>0.638889</td>\n",
              "      <td>0.616319</td>\n",
              "      <td>0.638021</td>\n",
              "      <td>0.403161</td>\n",
              "      <td>125740800</td>\n",
              "    </tr>\n",
              "    <tr>\n",
              "      <th>1990-01-05</th>\n",
              "      <td>0.635417</td>\n",
              "      <td>0.638889</td>\n",
              "      <td>0.621528</td>\n",
              "      <td>0.622396</td>\n",
              "      <td>0.393288</td>\n",
              "      <td>69566400</td>\n",
              "    </tr>\n",
              "    <tr>\n",
              "      <th>1990-01-08</th>\n",
              "      <td>0.621528</td>\n",
              "      <td>0.631944</td>\n",
              "      <td>0.614583</td>\n",
              "      <td>0.631944</td>\n",
              "      <td>0.399321</td>\n",
              "      <td>58982400</td>\n",
              "    </tr>\n",
              "    <tr>\n",
              "      <th>...</th>\n",
              "      <td>...</td>\n",
              "      <td>...</td>\n",
              "      <td>...</td>\n",
              "      <td>...</td>\n",
              "      <td>...</td>\n",
              "      <td>...</td>\n",
              "    </tr>\n",
              "    <tr>\n",
              "      <th>1990-12-24</th>\n",
              "      <td>1.048611</td>\n",
              "      <td>1.048611</td>\n",
              "      <td>1.038194</td>\n",
              "      <td>1.045139</td>\n",
              "      <td>0.660416</td>\n",
              "      <td>13550400</td>\n",
              "    </tr>\n",
              "    <tr>\n",
              "      <th>1990-12-26</th>\n",
              "      <td>1.045139</td>\n",
              "      <td>1.052083</td>\n",
              "      <td>1.034722</td>\n",
              "      <td>1.041667</td>\n",
              "      <td>0.658222</td>\n",
              "      <td>16214400</td>\n",
              "    </tr>\n",
              "    <tr>\n",
              "      <th>1990-12-27</th>\n",
              "      <td>1.041667</td>\n",
              "      <td>1.045139</td>\n",
              "      <td>1.034722</td>\n",
              "      <td>1.038194</td>\n",
              "      <td>0.656028</td>\n",
              "      <td>22629600</td>\n",
              "    </tr>\n",
              "    <tr>\n",
              "      <th>1990-12-28</th>\n",
              "      <td>1.034722</td>\n",
              "      <td>1.045139</td>\n",
              "      <td>1.031250</td>\n",
              "      <td>1.041667</td>\n",
              "      <td>0.658222</td>\n",
              "      <td>20268000</td>\n",
              "    </tr>\n",
              "    <tr>\n",
              "      <th>1990-12-31</th>\n",
              "      <td>1.041667</td>\n",
              "      <td>1.045139</td>\n",
              "      <td>1.034722</td>\n",
              "      <td>1.045139</td>\n",
              "      <td>0.660416</td>\n",
              "      <td>23702400</td>\n",
              "    </tr>\n",
              "  </tbody>\n",
              "</table>\n",
              "<p>253 rows × 6 columns</p>\n",
              "</div>\n",
              "      <button class=\"colab-df-convert\" onclick=\"convertToInteractive('df-c4502dce-56df-4080-9ec1-d5394c357c4f')\"\n",
              "              title=\"Convert this dataframe to an interactive table.\"\n",
              "              style=\"display:none;\">\n",
              "        \n",
              "  <svg xmlns=\"http://www.w3.org/2000/svg\" height=\"24px\"viewBox=\"0 0 24 24\"\n",
              "       width=\"24px\">\n",
              "    <path d=\"M0 0h24v24H0V0z\" fill=\"none\"/>\n",
              "    <path d=\"M18.56 5.44l.94 2.06.94-2.06 2.06-.94-2.06-.94-.94-2.06-.94 2.06-2.06.94zm-11 1L8.5 8.5l.94-2.06 2.06-.94-2.06-.94L8.5 2.5l-.94 2.06-2.06.94zm10 10l.94 2.06.94-2.06 2.06-.94-2.06-.94-.94-2.06-.94 2.06-2.06.94z\"/><path d=\"M17.41 7.96l-1.37-1.37c-.4-.4-.92-.59-1.43-.59-.52 0-1.04.2-1.43.59L10.3 9.45l-7.72 7.72c-.78.78-.78 2.05 0 2.83L4 21.41c.39.39.9.59 1.41.59.51 0 1.02-.2 1.41-.59l7.78-7.78 2.81-2.81c.8-.78.8-2.07 0-2.86zM5.41 20L4 18.59l7.72-7.72 1.47 1.35L5.41 20z\"/>\n",
              "  </svg>\n",
              "      </button>\n",
              "      \n",
              "  <style>\n",
              "    .colab-df-container {\n",
              "      display:flex;\n",
              "      flex-wrap:wrap;\n",
              "      gap: 12px;\n",
              "    }\n",
              "\n",
              "    .colab-df-convert {\n",
              "      background-color: #E8F0FE;\n",
              "      border: none;\n",
              "      border-radius: 50%;\n",
              "      cursor: pointer;\n",
              "      display: none;\n",
              "      fill: #1967D2;\n",
              "      height: 32px;\n",
              "      padding: 0 0 0 0;\n",
              "      width: 32px;\n",
              "    }\n",
              "\n",
              "    .colab-df-convert:hover {\n",
              "      background-color: #E2EBFA;\n",
              "      box-shadow: 0px 1px 2px rgba(60, 64, 67, 0.3), 0px 1px 3px 1px rgba(60, 64, 67, 0.15);\n",
              "      fill: #174EA6;\n",
              "    }\n",
              "\n",
              "    [theme=dark] .colab-df-convert {\n",
              "      background-color: #3B4455;\n",
              "      fill: #D2E3FC;\n",
              "    }\n",
              "\n",
              "    [theme=dark] .colab-df-convert:hover {\n",
              "      background-color: #434B5C;\n",
              "      box-shadow: 0px 1px 3px 1px rgba(0, 0, 0, 0.15);\n",
              "      filter: drop-shadow(0px 1px 2px rgba(0, 0, 0, 0.3));\n",
              "      fill: #FFFFFF;\n",
              "    }\n",
              "  </style>\n",
              "\n",
              "      <script>\n",
              "        const buttonEl =\n",
              "          document.querySelector('#df-c4502dce-56df-4080-9ec1-d5394c357c4f button.colab-df-convert');\n",
              "        buttonEl.style.display =\n",
              "          google.colab.kernel.accessAllowed ? 'block' : 'none';\n",
              "\n",
              "        async function convertToInteractive(key) {\n",
              "          const element = document.querySelector('#df-c4502dce-56df-4080-9ec1-d5394c357c4f');\n",
              "          const dataTable =\n",
              "            await google.colab.kernel.invokeFunction('convertToInteractive',\n",
              "                                                     [key], {});\n",
              "          if (!dataTable) return;\n",
              "\n",
              "          const docLinkHtml = 'Like what you see? Visit the ' +\n",
              "            '<a target=\"_blank\" href=https://colab.research.google.com/notebooks/data_table.ipynb>data table notebook</a>'\n",
              "            + ' to learn more about interactive tables.';\n",
              "          element.innerHTML = '';\n",
              "          dataTable['output_type'] = 'display_data';\n",
              "          await google.colab.output.renderOutput(dataTable, element);\n",
              "          const docLink = document.createElement('div');\n",
              "          docLink.innerHTML = docLinkHtml;\n",
              "          element.appendChild(docLink);\n",
              "        }\n",
              "      </script>\n",
              "    </div>\n",
              "  </div>\n",
              "  "
            ]
          },
          "metadata": {},
          "execution_count": 6
        }
      ]
    },
    {
      "cell_type": "markdown",
      "source": [
        "Now we want to check our data for any irregularities, in this case checking for any Null values. Above we made our DataFrame set any NA values to Null, so we want to check if we have any of these. If we do have Null values, it will alter our results, as they are viewed as Outliers "
      ],
      "metadata": {
        "id": "ugvGQQlVONOe"
      }
    },
    {
      "cell_type": "code",
      "source": [
        "#Check for Null values\n",
        "#Start with looking at the shape of the DataFrame\n",
        "print(\"Shape: \", df.shape)\n",
        "#See if we have any null values present\n",
        "print(\"Are there Null: \", df.isnull().values.any())"
      ],
      "metadata": {
        "colab": {
          "base_uri": "https://localhost:8080/"
        },
        "id": "qh3U2K8sArmA",
        "outputId": "cd02bd2d-af08-4848-f88f-a4213a56f8b4"
      },
      "execution_count": null,
      "outputs": [
        {
          "output_type": "stream",
          "name": "stdout",
          "text": [
            "Shape:  (9083, 6)\n",
            "Are there Null:  False\n"
          ]
        }
      ]
    },
    {
      "cell_type": "markdown",
      "source": [
        "Ok, the data looks good to go through with the calculations. No Null values \n",
        "\n",
        "We are most interested in Adj Close, the closing price on that market day for the stock. We will be using this to determine how accurate our model is"
      ],
      "metadata": {
        "id": "vJAKZK8iOno2"
      }
    },
    {
      "cell_type": "code",
      "source": [
        "df['Adj Close'].plot()"
      ],
      "metadata": {
        "colab": {
          "base_uri": "https://localhost:8080/",
          "height": 440
        },
        "id": "ljsxzDvuBaGB",
        "outputId": "44c5fc6a-1886-4227-8385-58295d73a51a"
      },
      "execution_count": null,
      "outputs": [
        {
          "output_type": "execute_result",
          "data": {
            "text/plain": [
              "<Axes: xlabel='Date'>"
            ]
          },
          "metadata": {},
          "execution_count": 8
        },
        {
          "output_type": "display_data",
          "data": {
            "text/plain": [
              "<Figure size 640x480 with 1 Axes>"
            ],
            "image/png": "[encoded data removed]"
          },
          "metadata": {}
        }
      ]
    },
    {
      "cell_type": "markdown",
      "source": [
        "Now we have the data in a form we can use. Now we need to find the target variables and features to use\n",
        "\n",
        "We have the following to use for training:\n",
        "- Open\n",
        "- High\n",
        "- Low\n",
        "- Volume"
      ],
      "metadata": {
        "id": "TrduI3BxDKfU"
      }
    },
    {
      "cell_type": "code",
      "source": [
        "#Target Variable (aka dependent variable)\n",
        "output = pd.DataFrame(df['Adj Close'])\n",
        "\n",
        "features = ['Open', 'High', 'Low', 'Close']"
      ],
      "metadata": {
        "id": "bLHdJ6sFDJTf"
      },
      "execution_count": null,
      "outputs": []
    },
    {
      "cell_type": "markdown",
      "source": [
        "#### There is a lot of data to go through, so to reduce the workload we can scale the data down. We can use MinMaxScaler from sklearn to do this. This is done by the following process [1]\n",
        "\n",
        "*X_std = (X - X.min(axis=0)) / (X.max(axis=0) - X.min(axis=0))*\n",
        "\n",
        "*X_scaled = X_std * (max - min) + min*\n",
        "\n",
        "#### We are going to reduce our values from above into a range of 0 -> 1\n"
      ],
      "metadata": {
        "id": "hACh_QQYNU7z"
      }
    },
    {
      "cell_type": "code",
      "source": [
        "#Scale down data to reduce computer workload\n",
        "scaler = MinMaxScaler()\n",
        "feature_transform = scaler.fit_transform(df[features])\n",
        "feature_transform= pd.DataFrame(columns=features, data=feature_transform, index=df.index)"
      ],
      "metadata": {
        "id": "m7CD7KthMIEf"
      },
      "execution_count": null,
      "outputs": []
    },
    {
      "cell_type": "markdown",
      "source": [
        "Here was what the old values looked like:"
      ],
      "metadata": {
        "id": "GPoVpcvIPAyK"
      }
    },
    {
      "cell_type": "code",
      "source": [
        "df.head()"
      ],
      "metadata": {
        "colab": {
          "base_uri": "https://localhost:8080/",
          "height": 238
        },
        "id": "FsJtaC7miks2",
        "outputId": "df6b0616-dd3e-434a-e110-a43cb97db095"
      },
      "execution_count": null,
      "outputs": [
        {
          "output_type": "execute_result",
          "data": {
            "text/plain": [
              "                Open      High       Low     Close  Adj Close      Volume\n",
              "Date                                                                     \n",
              "1986-03-13  0.088542  0.101563  0.088542  0.097222   0.061434  1031788800\n",
              "1986-03-14  0.097222  0.102431  0.097222  0.100694   0.063628   308160000\n",
              "1986-03-17  0.100694  0.103299  0.100694  0.102431   0.064725   133171200\n",
              "1986-03-18  0.102431  0.103299  0.098958  0.099826   0.063079    67766400\n",
              "1986-03-19  0.099826  0.100694  0.097222  0.098090   0.061982    47894400"
            ],
            "text/html": [
              "\n",
              "  <div id=\"df-4635db41-ea1b-4e6e-8348-1a0b2ca48385\">\n",
              "    <div class=\"colab-df-container\">\n",
              "      <div>\n",
              "<style scoped>\n",
              "    .dataframe tbody tr th:only-of-type {\n",
              "        vertical-align: middle;\n",
              "    }\n",
              "\n",
              "    .dataframe tbody tr th {\n",
              "        vertical-align: top;\n",
              "    }\n",
              "\n",
              "    .dataframe thead th {\n",
              "        text-align: right;\n",
              "    }\n",
              "</style>\n",
              "<table border=\"1\" class=\"dataframe\">\n",
              "  <thead>\n",
              "    <tr style=\"text-align: right;\">\n",
              "      <th></th>\n",
              "      <th>Open</th>\n",
              "      <th>High</th>\n",
              "      <th>Low</th>\n",
              "      <th>Close</th>\n",
              "      <th>Adj Close</th>\n",
              "      <th>Volume</th>\n",
              "    </tr>\n",
              "    <tr>\n",
              "      <th>Date</th>\n",
              "      <th></th>\n",
              "      <th></th>\n",
              "      <th></th>\n",
              "      <th></th>\n",
              "      <th></th>\n",
              "      <th></th>\n",
              "    </tr>\n",
              "  </thead>\n",
              "  <tbody>\n",
              "    <tr>\n",
              "      <th>1986-03-13</th>\n",
              "      <td>0.088542</td>\n",
              "      <td>0.101563</td>\n",
              "      <td>0.088542</td>\n",
              "      <td>0.097222</td>\n",
              "      <td>0.061434</td>\n",
              "      <td>1031788800</td>\n",
              "    </tr>\n",
              "    <tr>\n",
              "      <th>1986-03-14</th>\n",
              "      <td>0.097222</td>\n",
              "      <td>0.102431</td>\n",
              "      <td>0.097222</td>\n",
              "      <td>0.100694</td>\n",
              "      <td>0.063628</td>\n",
              "      <td>308160000</td>\n",
              "    </tr>\n",
              "    <tr>\n",
              "      <th>1986-03-17</th>\n",
              "      <td>0.100694</td>\n",
              "      <td>0.103299</td>\n",
              "      <td>0.100694</td>\n",
              "      <td>0.102431</td>\n",
              "      <td>0.064725</td>\n",
              "      <td>133171200</td>\n",
              "    </tr>\n",
              "    <tr>\n",
              "      <th>1986-03-18</th>\n",
              "      <td>0.102431</td>\n",
              "      <td>0.103299</td>\n",
              "      <td>0.098958</td>\n",
              "      <td>0.099826</td>\n",
              "      <td>0.063079</td>\n",
              "      <td>67766400</td>\n",
              "    </tr>\n",
              "    <tr>\n",
              "      <th>1986-03-19</th>\n",
              "      <td>0.099826</td>\n",
              "      <td>0.100694</td>\n",
              "      <td>0.097222</td>\n",
              "      <td>0.098090</td>\n",
              "      <td>0.061982</td>\n",
              "      <td>47894400</td>\n",
              "    </tr>\n",
              "  </tbody>\n",
              "</table>\n",
              "</div>\n",
              "      <button class=\"colab-df-convert\" onclick=\"convertToInteractive('df-4635db41-ea1b-4e6e-8348-1a0b2ca48385')\"\n",
              "              title=\"Convert this dataframe to an interactive table.\"\n",
              "              style=\"display:none;\">\n",
              "        \n",
              "  <svg xmlns=\"http://www.w3.org/2000/svg\" height=\"24px\"viewBox=\"0 0 24 24\"\n",
              "       width=\"24px\">\n",
              "    <path d=\"M0 0h24v24H0V0z\" fill=\"none\"/>\n",
              "    <path d=\"M18.56 5.44l.94 2.06.94-2.06 2.06-.94-2.06-.94-.94-2.06-.94 2.06-2.06.94zm-11 1L8.5 8.5l.94-2.06 2.06-.94-2.06-.94L8.5 2.5l-.94 2.06-2.06.94zm10 10l.94 2.06.94-2.06 2.06-.94-2.06-.94-.94-2.06-.94 2.06-2.06.94z\"/><path d=\"M17.41 7.96l-1.37-1.37c-.4-.4-.92-.59-1.43-.59-.52 0-1.04.2-1.43.59L10.3 9.45l-7.72 7.72c-.78.78-.78 2.05 0 2.83L4 21.41c.39.39.9.59 1.41.59.51 0 1.02-.2 1.41-.59l7.78-7.78 2.81-2.81c.8-.78.8-2.07 0-2.86zM5.41 20L4 18.59l7.72-7.72 1.47 1.35L5.41 20z\"/>\n",
              "  </svg>\n",
              "      </button>\n",
              "      \n",
              "  <style>\n",
              "    .colab-df-container {\n",
              "      display:flex;\n",
              "      flex-wrap:wrap;\n",
              "      gap: 12px;\n",
              "    }\n",
              "\n",
              "    .colab-df-convert {\n",
              "      background-color: #E8F0FE;\n",
              "      border: none;\n",
              "      border-radius: 50%;\n",
              "      cursor: pointer;\n",
              "      display: none;\n",
              "      fill: #1967D2;\n",
              "      height: 32px;\n",
              "      padding: 0 0 0 0;\n",
              "      width: 32px;\n",
              "    }\n",
              "\n",
              "    .colab-df-convert:hover {\n",
              "      background-color: #E2EBFA;\n",
              "      box-shadow: 0px 1px 2px rgba(60, 64, 67, 0.3), 0px 1px 3px 1px rgba(60, 64, 67, 0.15);\n",
              "      fill: #174EA6;\n",
              "    }\n",
              "\n",
              "    [theme=dark] .colab-df-convert {\n",
              "      background-color: #3B4455;\n",
              "      fill: #D2E3FC;\n",
              "    }\n",
              "\n",
              "    [theme=dark] .colab-df-convert:hover {\n",
              "      background-color: #434B5C;\n",
              "      box-shadow: 0px 1px 3px 1px rgba(0, 0, 0, 0.15);\n",
              "      filter: drop-shadow(0px 1px 2px rgba(0, 0, 0, 0.3));\n",
              "      fill: #FFFFFF;\n",
              "    }\n",
              "  </style>\n",
              "\n",
              "      <script>\n",
              "        const buttonEl =\n",
              "          document.querySelector('#df-4635db41-ea1b-4e6e-8348-1a0b2ca48385 button.colab-df-convert');\n",
              "        buttonEl.style.display =\n",
              "          google.colab.kernel.accessAllowed ? 'block' : 'none';\n",
              "\n",
              "        async function convertToInteractive(key) {\n",
              "          const element = document.querySelector('#df-4635db41-ea1b-4e6e-8348-1a0b2ca48385');\n",
              "          const dataTable =\n",
              "            await google.colab.kernel.invokeFunction('convertToInteractive',\n",
              "                                                     [key], {});\n",
              "          if (!dataTable) return;\n",
              "\n",
              "          const docLinkHtml = 'Like what you see? Visit the ' +\n",
              "            '<a target=\"_blank\" href=https://colab.research.google.com/notebooks/data_table.ipynb>data table notebook</a>'\n",
              "            + ' to learn more about interactive tables.';\n",
              "          element.innerHTML = '';\n",
              "          dataTable['output_type'] = 'display_data';\n",
              "          await google.colab.output.renderOutput(dataTable, element);\n",
              "          const docLink = document.createElement('div');\n",
              "          docLink.innerHTML = docLinkHtml;\n",
              "          element.appendChild(docLink);\n",
              "        }\n",
              "      </script>\n",
              "    </div>\n",
              "  </div>\n",
              "  "
            ]
          },
          "metadata": {},
          "execution_count": 11
        }
      ]
    },
    {
      "cell_type": "code",
      "source": [
        "df.tail()"
      ],
      "metadata": {
        "colab": {
          "base_uri": "https://localhost:8080/",
          "height": 238
        },
        "id": "auvxN_TdPFZZ",
        "outputId": "f82f81b7-0eb7-4871-e032-6bb50c30ea9d"
      },
      "execution_count": null,
      "outputs": [
        {
          "output_type": "execute_result",
          "data": {
            "text/plain": [
              "                  Open        High         Low       Close   Adj Close  \\\n",
              "Date                                                                     \n",
              "2022-03-18  295.369995  301.000000  292.730011  300.429993  300.429993   \n",
              "2022-03-21  298.890015  300.140015  294.899994  299.160004  299.160004   \n",
              "2022-03-22  299.799988  305.000000  298.769989  304.059998  304.059998   \n",
              "2022-03-23  300.510010  303.230011  297.720001  299.489990  299.489990   \n",
              "2022-03-24  299.140015  304.200012  298.320007  304.100006  304.100006   \n",
              "\n",
              "              Volume  \n",
              "Date                  \n",
              "2022-03-18  43317000  \n",
              "2022-03-21  28351200  \n",
              "2022-03-22  27599700  \n",
              "2022-03-23  25715400  \n",
              "2022-03-24  24446900  "
            ],
            "text/html": [
              "\n",
              "  <div id=\"df-d75c994f-4631-4ed6-99a9-ac0c185651f0\">\n",
              "    <div class=\"colab-df-container\">\n",
              "      <div>\n",
              "<style scoped>\n",
              "    .dataframe tbody tr th:only-of-type {\n",
              "        vertical-align: middle;\n",
              "    }\n",
              "\n",
              "    .dataframe tbody tr th {\n",
              "        vertical-align: top;\n",
              "    }\n",
              "\n",
              "    .dataframe thead th {\n",
              "        text-align: right;\n",
              "    }\n",
              "</style>\n",
              "<table border=\"1\" class=\"dataframe\">\n",
              "  <thead>\n",
              "    <tr style=\"text-align: right;\">\n",
              "      <th></th>\n",
              "      <th>Open</th>\n",
              "      <th>High</th>\n",
              "      <th>Low</th>\n",
              "      <th>Close</th>\n",
              "      <th>Adj Close</th>\n",
              "      <th>Volume</th>\n",
              "    </tr>\n",
              "    <tr>\n",
              "      <th>Date</th>\n",
              "      <th></th>\n",
              "      <th></th>\n",
              "      <th></th>\n",
              "      <th></th>\n",
              "      <th></th>\n",
              "      <th></th>\n",
              "    </tr>\n",
              "  </thead>\n",
              "  <tbody>\n",
              "    <tr>\n",
              "      <th>2022-03-18</th>\n",
              "      <td>295.369995</td>\n",
              "      <td>301.000000</td>\n",
              "      <td>292.730011</td>\n",
              "      <td>300.429993</td>\n",
              "      <td>300.429993</td>\n",
              "      <td>43317000</td>\n",
              "    </tr>\n",
              "    <tr>\n",
              "      <th>2022-03-21</th>\n",
              "      <td>298.890015</td>\n",
              "      <td>300.140015</td>\n",
              "      <td>294.899994</td>\n",
              "      <td>299.160004</td>\n",
              "      <td>299.160004</td>\n",
              "      <td>28351200</td>\n",
              "    </tr>\n",
              "    <tr>\n",
              "      <th>2022-03-22</th>\n",
              "      <td>299.799988</td>\n",
              "      <td>305.000000</td>\n",
              "      <td>298.769989</td>\n",
              "      <td>304.059998</td>\n",
              "      <td>304.059998</td>\n",
              "      <td>27599700</td>\n",
              "    </tr>\n",
              "    <tr>\n",
              "      <th>2022-03-23</th>\n",
              "      <td>300.510010</td>\n",
              "      <td>303.230011</td>\n",
              "      <td>297.720001</td>\n",
              "      <td>299.489990</td>\n",
              "      <td>299.489990</td>\n",
              "      <td>25715400</td>\n",
              "    </tr>\n",
              "    <tr>\n",
              "      <th>2022-03-24</th>\n",
              "      <td>299.140015</td>\n",
              "      <td>304.200012</td>\n",
              "      <td>298.320007</td>\n",
              "      <td>304.100006</td>\n",
              "      <td>304.100006</td>\n",
              "      <td>24446900</td>\n",
              "    </tr>\n",
              "  </tbody>\n",
              "</table>\n",
              "</div>\n",
              "      <button class=\"colab-df-convert\" onclick=\"convertToInteractive('df-d75c994f-4631-4ed6-99a9-ac0c185651f0')\"\n",
              "              title=\"Convert this dataframe to an interactive table.\"\n",
              "              style=\"display:none;\">\n",
              "        \n",
              "  <svg xmlns=\"http://www.w3.org/2000/svg\" height=\"24px\"viewBox=\"0 0 24 24\"\n",
              "       width=\"24px\">\n",
              "    <path d=\"M0 0h24v24H0V0z\" fill=\"none\"/>\n",
              "    <path d=\"M18.56 5.44l.94 2.06.94-2.06 2.06-.94-2.06-.94-.94-2.06-.94 2.06-2.06.94zm-11 1L8.5 8.5l.94-2.06 2.06-.94-2.06-.94L8.5 2.5l-.94 2.06-2.06.94zm10 10l.94 2.06.94-2.06 2.06-.94-2.06-.94-.94-2.06-.94 2.06-2.06.94z\"/><path d=\"M17.41 7.96l-1.37-1.37c-.4-.4-.92-.59-1.43-.59-.52 0-1.04.2-1.43.59L10.3 9.45l-7.72 7.72c-.78.78-.78 2.05 0 2.83L4 21.41c.39.39.9.59 1.41.59.51 0 1.02-.2 1.41-.59l7.78-7.78 2.81-2.81c.8-.78.8-2.07 0-2.86zM5.41 20L4 18.59l7.72-7.72 1.47 1.35L5.41 20z\"/>\n",
              "  </svg>\n",
              "      </button>\n",
              "      \n",
              "  <style>\n",
              "    .colab-df-container {\n",
              "      display:flex;\n",
              "      flex-wrap:wrap;\n",
              "      gap: 12px;\n",
              "    }\n",
              "\n",
              "    .colab-df-convert {\n",
              "      background-color: #E8F0FE;\n",
              "      border: none;\n",
              "      border-radius: 50%;\n",
              "      cursor: pointer;\n",
              "      display: none;\n",
              "      fill: #1967D2;\n",
              "      height: 32px;\n",
              "      padding: 0 0 0 0;\n",
              "      width: 32px;\n",
              "    }\n",
              "\n",
              "    .colab-df-convert:hover {\n",
              "      background-color: #E2EBFA;\n",
              "      box-shadow: 0px 1px 2px rgba(60, 64, 67, 0.3), 0px 1px 3px 1px rgba(60, 64, 67, 0.15);\n",
              "      fill: #174EA6;\n",
              "    }\n",
              "\n",
              "    [theme=dark] .colab-df-convert {\n",
              "      background-color: #3B4455;\n",
              "      fill: #D2E3FC;\n",
              "    }\n",
              "\n",
              "    [theme=dark] .colab-df-convert:hover {\n",
              "      background-color: #434B5C;\n",
              "      box-shadow: 0px 1px 3px 1px rgba(0, 0, 0, 0.15);\n",
              "      filter: drop-shadow(0px 1px 2px rgba(0, 0, 0, 0.3));\n",
              "      fill: #FFFFFF;\n",
              "    }\n",
              "  </style>\n",
              "\n",
              "      <script>\n",
              "        const buttonEl =\n",
              "          document.querySelector('#df-d75c994f-4631-4ed6-99a9-ac0c185651f0 button.colab-df-convert');\n",
              "        buttonEl.style.display =\n",
              "          google.colab.kernel.accessAllowed ? 'block' : 'none';\n",
              "\n",
              "        async function convertToInteractive(key) {\n",
              "          const element = document.querySelector('#df-d75c994f-4631-4ed6-99a9-ac0c185651f0');\n",
              "          const dataTable =\n",
              "            await google.colab.kernel.invokeFunction('convertToInteractive',\n",
              "                                                     [key], {});\n",
              "          if (!dataTable) return;\n",
              "\n",
              "          const docLinkHtml = 'Like what you see? Visit the ' +\n",
              "            '<a target=\"_blank\" href=https://colab.research.google.com/notebooks/data_table.ipynb>data table notebook</a>'\n",
              "            + ' to learn more about interactive tables.';\n",
              "          element.innerHTML = '';\n",
              "          dataTable['output_type'] = 'display_data';\n",
              "          await google.colab.output.renderOutput(dataTable, element);\n",
              "          const docLink = document.createElement('div');\n",
              "          docLink.innerHTML = docLinkHtml;\n",
              "          element.appendChild(docLink);\n",
              "        }\n",
              "      </script>\n",
              "    </div>\n",
              "  </div>\n",
              "  "
            ]
          },
          "metadata": {},
          "execution_count": 12
        }
      ]
    },
    {
      "cell_type": "markdown",
      "source": [
        "And here are the new scaled down values\n",
        "\n"
      ],
      "metadata": {
        "id": "LSDtn4KAPH64"
      }
    },
    {
      "cell_type": "code",
      "source": [
        "feature_transform.head()"
      ],
      "metadata": {
        "colab": {
          "base_uri": "https://localhost:8080/",
          "height": 238
        },
        "id": "HFxFnLZFinZA",
        "outputId": "397451c6-e17e-4209-fb79-6d7825fdea83"
      },
      "execution_count": null,
      "outputs": [
        {
          "output_type": "execute_result",
          "data": {
            "text/plain": [
              "                Open      High       Low     Close\n",
              "Date                                              \n",
              "1986-03-13  0.000000  0.000027  0.000000  0.000020\n",
              "1986-03-14  0.000025  0.000030  0.000025  0.000030\n",
              "1986-03-17  0.000035  0.000032  0.000036  0.000035\n",
              "1986-03-18  0.000040  0.000032  0.000030  0.000028\n",
              "1986-03-19  0.000033  0.000025  0.000025  0.000023"
            ],
            "text/html": [
              "\n",
              "  <div id=\"df-36a48f03-e95b-41d6-a71b-be2b96fe5246\">\n",
              "    <div class=\"colab-df-container\">\n",
              "      <div>\n",
              "<style scoped>\n",
              "    .dataframe tbody tr th:only-of-type {\n",
              "        vertical-align: middle;\n",
              "    }\n",
              "\n",
              "    .dataframe tbody tr th {\n",
              "        vertical-align: top;\n",
              "    }\n",
              "\n",
              "    .dataframe thead th {\n",
              "        text-align: right;\n",
              "    }\n",
              "</style>\n",
              "<table border=\"1\" class=\"dataframe\">\n",
              "  <thead>\n",
              "    <tr style=\"text-align: right;\">\n",
              "      <th></th>\n",
              "      <th>Open</th>\n",
              "      <th>High</th>\n",
              "      <th>Low</th>\n",
              "      <th>Close</th>\n",
              "    </tr>\n",
              "    <tr>\n",
              "      <th>Date</th>\n",
              "      <th></th>\n",
              "      <th></th>\n",
              "      <th></th>\n",
              "      <th></th>\n",
              "    </tr>\n",
              "  </thead>\n",
              "  <tbody>\n",
              "    <tr>\n",
              "      <th>1986-03-13</th>\n",
              "      <td>0.000000</td>\n",
              "      <td>0.000027</td>\n",
              "      <td>0.000000</td>\n",
              "      <td>0.000020</td>\n",
              "    </tr>\n",
              "    <tr>\n",
              "      <th>1986-03-14</th>\n",
              "      <td>0.000025</td>\n",
              "      <td>0.000030</td>\n",
              "      <td>0.000025</td>\n",
              "      <td>0.000030</td>\n",
              "    </tr>\n",
              "    <tr>\n",
              "      <th>1986-03-17</th>\n",
              "      <td>0.000035</td>\n",
              "      <td>0.000032</td>\n",
              "      <td>0.000036</td>\n",
              "      <td>0.000035</td>\n",
              "    </tr>\n",
              "    <tr>\n",
              "      <th>1986-03-18</th>\n",
              "      <td>0.000040</td>\n",
              "      <td>0.000032</td>\n",
              "      <td>0.000030</td>\n",
              "      <td>0.000028</td>\n",
              "    </tr>\n",
              "    <tr>\n",
              "      <th>1986-03-19</th>\n",
              "      <td>0.000033</td>\n",
              "      <td>0.000025</td>\n",
              "      <td>0.000025</td>\n",
              "      <td>0.000023</td>\n",
              "    </tr>\n",
              "  </tbody>\n",
              "</table>\n",
              "</div>\n",
              "      <button class=\"colab-df-convert\" onclick=\"convertToInteractive('df-36a48f03-e95b-41d6-a71b-be2b96fe5246')\"\n",
              "              title=\"Convert this dataframe to an interactive table.\"\n",
              "              style=\"display:none;\">\n",
              "        \n",
              "  <svg xmlns=\"http://www.w3.org/2000/svg\" height=\"24px\"viewBox=\"0 0 24 24\"\n",
              "       width=\"24px\">\n",
              "    <path d=\"M0 0h24v24H0V0z\" fill=\"none\"/>\n",
              "    <path d=\"M18.56 5.44l.94 2.06.94-2.06 2.06-.94-2.06-.94-.94-2.06-.94 2.06-2.06.94zm-11 1L8.5 8.5l.94-2.06 2.06-.94-2.06-.94L8.5 2.5l-.94 2.06-2.06.94zm10 10l.94 2.06.94-2.06 2.06-.94-2.06-.94-.94-2.06-.94 2.06-2.06.94z\"/><path d=\"M17.41 7.96l-1.37-1.37c-.4-.4-.92-.59-1.43-.59-.52 0-1.04.2-1.43.59L10.3 9.45l-7.72 7.72c-.78.78-.78 2.05 0 2.83L4 21.41c.39.39.9.59 1.41.59.51 0 1.02-.2 1.41-.59l7.78-7.78 2.81-2.81c.8-.78.8-2.07 0-2.86zM5.41 20L4 18.59l7.72-7.72 1.47 1.35L5.41 20z\"/>\n",
              "  </svg>\n",
              "      </button>\n",
              "      \n",
              "  <style>\n",
              "    .colab-df-container {\n",
              "      display:flex;\n",
              "      flex-wrap:wrap;\n",
              "      gap: 12px;\n",
              "    }\n",
              "\n",
              "    .colab-df-convert {\n",
              "      background-color: #E8F0FE;\n",
              "      border: none;\n",
              "      border-radius: 50%;\n",
              "      cursor: pointer;\n",
              "      display: none;\n",
              "      fill: #1967D2;\n",
              "      height: 32px;\n",
              "      padding: 0 0 0 0;\n",
              "      width: 32px;\n",
              "    }\n",
              "\n",
              "    .colab-df-convert:hover {\n",
              "      background-color: #E2EBFA;\n",
              "      box-shadow: 0px 1px 2px rgba(60, 64, 67, 0.3), 0px 1px 3px 1px rgba(60, 64, 67, 0.15);\n",
              "      fill: #174EA6;\n",
              "    }\n",
              "\n",
              "    [theme=dark] .colab-df-convert {\n",
              "      background-color: #3B4455;\n",
              "      fill: #D2E3FC;\n",
              "    }\n",
              "\n",
              "    [theme=dark] .colab-df-convert:hover {\n",
              "      background-color: #434B5C;\n",
              "      box-shadow: 0px 1px 3px 1px rgba(0, 0, 0, 0.15);\n",
              "      filter: drop-shadow(0px 1px 2px rgba(0, 0, 0, 0.3));\n",
              "      fill: #FFFFFF;\n",
              "    }\n",
              "  </style>\n",
              "\n",
              "      <script>\n",
              "        const buttonEl =\n",
              "          document.querySelector('#df-36a48f03-e95b-41d6-a71b-be2b96fe5246 button.colab-df-convert');\n",
              "        buttonEl.style.display =\n",
              "          google.colab.kernel.accessAllowed ? 'block' : 'none';\n",
              "\n",
              "        async function convertToInteractive(key) {\n",
              "          const element = document.querySelector('#df-36a48f03-e95b-41d6-a71b-be2b96fe5246');\n",
              "          const dataTable =\n",
              "            await google.colab.kernel.invokeFunction('convertToInteractive',\n",
              "                                                     [key], {});\n",
              "          if (!dataTable) return;\n",
              "\n",
              "          const docLinkHtml = 'Like what you see? Visit the ' +\n",
              "            '<a target=\"_blank\" href=https://colab.research.google.com/notebooks/data_table.ipynb>data table notebook</a>'\n",
              "            + ' to learn more about interactive tables.';\n",
              "          element.innerHTML = '';\n",
              "          dataTable['output_type'] = 'display_data';\n",
              "          await google.colab.output.renderOutput(dataTable, element);\n",
              "          const docLink = document.createElement('div');\n",
              "          docLink.innerHTML = docLinkHtml;\n",
              "          element.appendChild(docLink);\n",
              "        }\n",
              "      </script>\n",
              "    </div>\n",
              "  </div>\n",
              "  "
            ]
          },
          "metadata": {},
          "execution_count": 13
        }
      ]
    },
    {
      "cell_type": "code",
      "source": [
        "feature_transform.tail()"
      ],
      "metadata": {
        "colab": {
          "base_uri": "https://localhost:8080/",
          "height": 238
        },
        "id": "-bRLFw3LPKQQ",
        "outputId": "2d7a604a-63ae-4cb4-f8e0-cec24202d156"
      },
      "execution_count": null,
      "outputs": [
        {
          "output_type": "execute_result",
          "data": {
            "text/plain": [
              "                Open      High       Low     Close\n",
              "Date                                              \n",
              "2022-03-18  0.857052  0.860775  0.855398  0.875576\n",
              "2022-03-21  0.867269  0.858315  0.861741  0.871873\n",
              "2022-03-22  0.869910  0.872217  0.873053  0.886158\n",
              "2022-03-23  0.871971  0.867154  0.869984  0.872835\n",
              "2022-03-24  0.867995  0.869929  0.871738  0.886275"
            ],
            "text/html": [
              "\n",
              "  <div id=\"df-ec846207-b7de-4249-87d1-9c20911f2a35\">\n",
              "    <div class=\"colab-df-container\">\n",
              "      <div>\n",
              "<style scoped>\n",
              "    .dataframe tbody tr th:only-of-type {\n",
              "        vertical-align: middle;\n",
              "    }\n",
              "\n",
              "    .dataframe tbody tr th {\n",
              "        vertical-align: top;\n",
              "    }\n",
              "\n",
              "    .dataframe thead th {\n",
              "        text-align: right;\n",
              "    }\n",
              "</style>\n",
              "<table border=\"1\" class=\"dataframe\">\n",
              "  <thead>\n",
              "    <tr style=\"text-align: right;\">\n",
              "      <th></th>\n",
              "      <th>Open</th>\n",
              "      <th>High</th>\n",
              "      <th>Low</th>\n",
              "      <th>Close</th>\n",
              "    </tr>\n",
              "    <tr>\n",
              "      <th>Date</th>\n",
              "      <th></th>\n",
              "      <th></th>\n",
              "      <th></th>\n",
              "      <th></th>\n",
              "    </tr>\n",
              "  </thead>\n",
              "  <tbody>\n",
              "    <tr>\n",
              "      <th>2022-03-18</th>\n",
              "      <td>0.857052</td>\n",
              "      <td>0.860775</td>\n",
              "      <td>0.855398</td>\n",
              "      <td>0.875576</td>\n",
              "    </tr>\n",
              "    <tr>\n",
              "      <th>2022-03-21</th>\n",
              "      <td>0.867269</td>\n",
              "      <td>0.858315</td>\n",
              "      <td>0.861741</td>\n",
              "      <td>0.871873</td>\n",
              "    </tr>\n",
              "    <tr>\n",
              "      <th>2022-03-22</th>\n",
              "      <td>0.869910</td>\n",
              "      <td>0.872217</td>\n",
              "      <td>0.873053</td>\n",
              "      <td>0.886158</td>\n",
              "    </tr>\n",
              "    <tr>\n",
              "      <th>2022-03-23</th>\n",
              "      <td>0.871971</td>\n",
              "      <td>0.867154</td>\n",
              "      <td>0.869984</td>\n",
              "      <td>0.872835</td>\n",
              "    </tr>\n",
              "    <tr>\n",
              "      <th>2022-03-24</th>\n",
              "      <td>0.867995</td>\n",
              "      <td>0.869929</td>\n",
              "      <td>0.871738</td>\n",
              "      <td>0.886275</td>\n",
              "    </tr>\n",
              "  </tbody>\n",
              "</table>\n",
              "</div>\n",
              "      <button class=\"colab-df-convert\" onclick=\"convertToInteractive('df-ec846207-b7de-4249-87d1-9c20911f2a35')\"\n",
              "              title=\"Convert this dataframe to an interactive table.\"\n",
              "              style=\"display:none;\">\n",
              "        \n",
              "  <svg xmlns=\"http://www.w3.org/2000/svg\" height=\"24px\"viewBox=\"0 0 24 24\"\n",
              "       width=\"24px\">\n",
              "    <path d=\"M0 0h24v24H0V0z\" fill=\"none\"/>\n",
              "    <path d=\"M18.56 5.44l.94 2.06.94-2.06 2.06-.94-2.06-.94-.94-2.06-.94 2.06-2.06.94zm-11 1L8.5 8.5l.94-2.06 2.06-.94-2.06-.94L8.5 2.5l-.94 2.06-2.06.94zm10 10l.94 2.06.94-2.06 2.06-.94-2.06-.94-.94-2.06-.94 2.06-2.06.94z\"/><path d=\"M17.41 7.96l-1.37-1.37c-.4-.4-.92-.59-1.43-.59-.52 0-1.04.2-1.43.59L10.3 9.45l-7.72 7.72c-.78.78-.78 2.05 0 2.83L4 21.41c.39.39.9.59 1.41.59.51 0 1.02-.2 1.41-.59l7.78-7.78 2.81-2.81c.8-.78.8-2.07 0-2.86zM5.41 20L4 18.59l7.72-7.72 1.47 1.35L5.41 20z\"/>\n",
              "  </svg>\n",
              "      </button>\n",
              "      \n",
              "  <style>\n",
              "    .colab-df-container {\n",
              "      display:flex;\n",
              "      flex-wrap:wrap;\n",
              "      gap: 12px;\n",
              "    }\n",
              "\n",
              "    .colab-df-convert {\n",
              "      background-color: #E8F0FE;\n",
              "      border: none;\n",
              "      border-radius: 50%;\n",
              "      cursor: pointer;\n",
              "      display: none;\n",
              "      fill: #1967D2;\n",
              "      height: 32px;\n",
              "      padding: 0 0 0 0;\n",
              "      width: 32px;\n",
              "    }\n",
              "\n",
              "    .colab-df-convert:hover {\n",
              "      background-color: #E2EBFA;\n",
              "      box-shadow: 0px 1px 2px rgba(60, 64, 67, 0.3), 0px 1px 3px 1px rgba(60, 64, 67, 0.15);\n",
              "      fill: #174EA6;\n",
              "    }\n",
              "\n",
              "    [theme=dark] .colab-df-convert {\n",
              "      background-color: #3B4455;\n",
              "      fill: #D2E3FC;\n",
              "    }\n",
              "\n",
              "    [theme=dark] .colab-df-convert:hover {\n",
              "      background-color: #434B5C;\n",
              "      box-shadow: 0px 1px 3px 1px rgba(0, 0, 0, 0.15);\n",
              "      filter: drop-shadow(0px 1px 2px rgba(0, 0, 0, 0.3));\n",
              "      fill: #FFFFFF;\n",
              "    }\n",
              "  </style>\n",
              "\n",
              "      <script>\n",
              "        const buttonEl =\n",
              "          document.querySelector('#df-ec846207-b7de-4249-87d1-9c20911f2a35 button.colab-df-convert');\n",
              "        buttonEl.style.display =\n",
              "          google.colab.kernel.accessAllowed ? 'block' : 'none';\n",
              "\n",
              "        async function convertToInteractive(key) {\n",
              "          const element = document.querySelector('#df-ec846207-b7de-4249-87d1-9c20911f2a35');\n",
              "          const dataTable =\n",
              "            await google.colab.kernel.invokeFunction('convertToInteractive',\n",
              "                                                     [key], {});\n",
              "          if (!dataTable) return;\n",
              "\n",
              "          const docLinkHtml = 'Like what you see? Visit the ' +\n",
              "            '<a target=\"_blank\" href=https://colab.research.google.com/notebooks/data_table.ipynb>data table notebook</a>'\n",
              "            + ' to learn more about interactive tables.';\n",
              "          element.innerHTML = '';\n",
              "          dataTable['output_type'] = 'display_data';\n",
              "          await google.colab.output.renderOutput(dataTable, element);\n",
              "          const docLink = document.createElement('div');\n",
              "          docLink.innerHTML = docLinkHtml;\n",
              "          element.appendChild(docLink);\n",
              "        }\n",
              "      </script>\n",
              "    </div>\n",
              "  </div>\n",
              "  "
            ]
          },
          "metadata": {},
          "execution_count": 14
        }
      ]
    },
    {
      "cell_type": "markdown",
      "source": [
        "Now that the data is in a state we can work with, we are going to split it into train and test sets. We can use TimeSeriesSplit since our data is time series. \"Provides train/test indices to split time series data samples that are observed at fixed time intervals, in train/test sets\" [2]"
      ],
      "metadata": {
        "id": "upHqOgclf89r"
      }
    },
    {
      "cell_type": "code",
      "source": [
        "timesplit= TimeSeriesSplit(n_splits=10)\n",
        "for train_index, test_index in timesplit.split(feature_transform):\n",
        "        X_train, X_test = feature_transform[:len(train_index)], feature_transform[len(train_index): (len(train_index)+len(test_index))]\n",
        "        y_train, y_test = output[:len(train_index)].values.ravel(), output[len(train_index): (len(train_index)+len(test_index))].values.ravel()"
      ],
      "metadata": {
        "id": "eJcpCE_6Mlk8"
      },
      "execution_count": null,
      "outputs": []
    },
    {
      "cell_type": "code",
      "source": [
        "print(\"Xtrain shape: \",X_train.shape)\n",
        "print(\"Xtest shape: \",X_test.shape)\n",
        "print(\"ytrain shape: \",y_train.shape)\n",
        "print(\"ytest shape: \",y_test.shape)"
      ],
      "metadata": {
        "colab": {
          "base_uri": "https://localhost:8080/"
        },
        "id": "xccp1k9wg-UH",
        "outputId": "e0736057-1f1d-4f32-900b-01743a28f42d"
      },
      "execution_count": null,
      "outputs": [
        {
          "output_type": "stream",
          "name": "stdout",
          "text": [
            "Xtrain shape:  (8258, 4)\n",
            "Xtest shape:  (825, 4)\n",
            "ytrain shape:  (8258,)\n",
            "ytest shape:  (825,)\n"
          ]
        }
      ]
    },
    {
      "cell_type": "code",
      "source": [
        "#Data processing for LSTM\n",
        "trainX =np.array(X_train)\n",
        "testX =np.array(X_test)\n",
        "X_train = trainX.reshape(X_train.shape[0], 1, X_train.shape[1])\n",
        "X_test = testX.reshape(X_test.shape[0], 1, X_test.shape[1])"
      ],
      "metadata": {
        "id": "GT65S7xEMnV7"
      },
      "execution_count": null,
      "outputs": []
    },
    {
      "cell_type": "code",
      "source": [
        "print(\"Xtrain shape: \",trainX.shape)\n",
        "print(\"Xtest shape: \",X_test.shape)\n",
        "print(\"ytrain shape: \",y_train.shape)\n",
        "print(\"ytest shape: \",y_test.shape)"
      ],
      "metadata": {
        "colab": {
          "base_uri": "https://localhost:8080/"
        },
        "id": "Ea0MuUmyhfED",
        "outputId": "becf263b-7749-45ee-e386-902ee8eb7a2a"
      },
      "execution_count": null,
      "outputs": [
        {
          "output_type": "stream",
          "name": "stdout",
          "text": [
            "Xtrain shape:  (8258, 4)\n",
            "Xtest shape:  (825, 1, 4)\n",
            "ytrain shape:  (8258,)\n",
            "ytest shape:  (825,)\n"
          ]
        }
      ]
    },
    {
      "cell_type": "markdown",
      "source": [
        "We can create the LSTM and plot the model from keras and plot_model to give a visual representation [3]"
      ],
      "metadata": {
        "id": "J9SzL9OBh7qF"
      }
    },
    {
      "cell_type": "code",
      "source": [
        "#Build the LSTM Model\n",
        "lstm = Sequential()\n",
        "lstm.add(LSTM(32, input_shape=(1, trainX.shape[1]), activation='relu', return_sequences=False))\n",
        "lstm.add(Dense(1))\n",
        "lstm.compile(loss='mean_squared_error', optimizer='adam')\n",
        "plot_model(lstm, show_shapes=True, show_layer_names=True)"
      ],
      "metadata": {
        "id": "6CnUsYY3MoXZ",
        "colab": {
          "base_uri": "https://localhost:8080/",
          "height": 312
        },
        "outputId": "92a0711a-4352-449b-b3c2-b87c8bd21dc2"
      },
      "execution_count": null,
      "outputs": [
        {
          "output_type": "execute_result",
          "data": {
            "image/png": "[encoded data removed]",
            "text/plain": [
              "<IPython.core.display.Image object>"
            ]
          },
          "metadata": {},
          "execution_count": 19
        }
      ]
    },
    {
      "cell_type": "markdown",
      "source": [
        "Now that the model is made all we need to do is train it with the data"
      ],
      "metadata": {
        "id": "EI3uKmw3i6oD"
      }
    },
    {
      "cell_type": "code",
      "source": [
        "#Train the LSTM Model\n",
        "history=lstm.fit(X_train, y_train, epochs=100, batch_size=8, verbose=1, shuffle=False)"
      ],
      "metadata": {
        "id": "CJ4lJDUkMpRN",
        "colab": {
          "base_uri": "https://localhost:8080/"
        },
        "outputId": "5da564c5-94f3-44e0-9427-07c4bb1d9afd"
      },
      "execution_count": null,
      "outputs": [
        {
          "output_type": "stream",
          "name": "stdout",
          "text": [
            "Epoch 1/100\n",
            "1033/1033 [==============================] - 6s 4ms/step - loss: 48.1549\n",
            "Epoch 2/100\n",
            "1033/1033 [==============================] - 3s 3ms/step - loss: 175.7045\n",
            "Epoch 3/100\n",
            "1033/1033 [==============================] - 4s 4ms/step - loss: 92.2367\n",
            "Epoch 4/100\n",
            "1033/1033 [==============================] - 4s 4ms/step - loss: 53.6974\n",
            "Epoch 5/100\n",
            "1033/1033 [==============================] - 3s 3ms/step - loss: 30.1461\n",
            "Epoch 6/100\n",
            "1033/1033 [==============================] - 3s 3ms/step - loss: 16.2263\n",
            "Epoch 7/100\n",
            "1033/1033 [==============================] - 5s 5ms/step - loss: 8.6953\n",
            "Epoch 8/100\n",
            "1033/1033 [==============================] - 4s 4ms/step - loss: 5.0680\n",
            "Epoch 9/100\n",
            "1033/1033 [==============================] - 4s 3ms/step - loss: 3.3395\n",
            "Epoch 10/100\n",
            "1033/1033 [==============================] - 3s 3ms/step - loss: 2.4800\n",
            "Epoch 11/100\n",
            "1033/1033 [==============================] - 5s 5ms/step - loss: 2.0427\n",
            "Epoch 12/100\n",
            "1033/1033 [==============================] - 4s 4ms/step - loss: 1.8116\n",
            "Epoch 13/100\n",
            "1033/1033 [==============================] - 4s 4ms/step - loss: 1.6785\n",
            "Epoch 14/100\n",
            "1033/1033 [==============================] - 6s 5ms/step - loss: 1.5920\n",
            "Epoch 15/100\n",
            "1033/1033 [==============================] - 7s 7ms/step - loss: 1.5288\n",
            "Epoch 16/100\n",
            "1033/1033 [==============================] - 7s 7ms/step - loss: 1.4797\n",
            "Epoch 17/100\n",
            "1033/1033 [==============================] - 8s 7ms/step - loss: 1.4400\n",
            "Epoch 18/100\n",
            "1033/1033 [==============================] - 6s 6ms/step - loss: 1.4071\n",
            "Epoch 19/100\n",
            "1033/1033 [==============================] - 6s 6ms/step - loss: 1.3797\n",
            "Epoch 20/100\n",
            "1033/1033 [==============================] - 4s 4ms/step - loss: 1.3569\n",
            "Epoch 21/100\n",
            "1033/1033 [==============================] - 4s 4ms/step - loss: 1.3379\n",
            "Epoch 22/100\n",
            "1033/1033 [==============================] - 5s 5ms/step - loss: 1.3221\n",
            "Epoch 23/100\n",
            "1033/1033 [==============================] - 4s 4ms/step - loss: 1.3092\n",
            "Epoch 24/100\n",
            "1033/1033 [==============================] - 3s 3ms/step - loss: 1.2986\n",
            "Epoch 25/100\n",
            "1033/1033 [==============================] - 4s 4ms/step - loss: 1.2901\n",
            "Epoch 26/100\n",
            "1033/1033 [==============================] - 5s 5ms/step - loss: 1.2833\n",
            "Epoch 27/100\n",
            "1033/1033 [==============================] - 4s 3ms/step - loss: 1.2781\n",
            "Epoch 28/100\n",
            "1033/1033 [==============================] - 3s 3ms/step - loss: 1.2741\n",
            "Epoch 29/100\n",
            "1033/1033 [==============================] - 4s 4ms/step - loss: 1.2713\n",
            "Epoch 30/100\n",
            "1033/1033 [==============================] - 4s 4ms/step - loss: 1.2694\n",
            "Epoch 31/100\n",
            "1033/1033 [==============================] - 3s 3ms/step - loss: 1.2683\n",
            "Epoch 32/100\n",
            "1033/1033 [==============================] - 3s 3ms/step - loss: 1.2678\n",
            "Epoch 33/100\n",
            "1033/1033 [==============================] - 5s 5ms/step - loss: 1.2680\n",
            "Epoch 34/100\n",
            "1033/1033 [==============================] - 4s 4ms/step - loss: 1.2686\n",
            "Epoch 35/100\n",
            "1033/1033 [==============================] - 4s 3ms/step - loss: 1.2696\n",
            "Epoch 36/100\n",
            "1033/1033 [==============================] - 4s 3ms/step - loss: 1.2710\n",
            "Epoch 37/100\n",
            "1033/1033 [==============================] - 5s 5ms/step - loss: 1.2726\n",
            "Epoch 38/100\n",
            "1033/1033 [==============================] - 4s 4ms/step - loss: 1.2744\n",
            "Epoch 39/100\n",
            "1033/1033 [==============================] - 3s 3ms/step - loss: 1.2764\n",
            "Epoch 40/100\n",
            "1033/1033 [==============================] - 4s 4ms/step - loss: 1.2785\n",
            "Epoch 41/100\n",
            "1033/1033 [==============================] - 4s 4ms/step - loss: 1.2808\n",
            "Epoch 42/100\n",
            "1033/1033 [==============================] - 4s 3ms/step - loss: 1.2831\n",
            "Epoch 43/100\n",
            "1033/1033 [==============================] - 3s 3ms/step - loss: 1.2854\n",
            "Epoch 44/100\n",
            "1033/1033 [==============================] - 5s 4ms/step - loss: 1.2878\n",
            "Epoch 45/100\n",
            "1033/1033 [==============================] - 5s 4ms/step - loss: 1.2902\n",
            "Epoch 46/100\n",
            "1033/1033 [==============================] - 3s 3ms/step - loss: 1.2925\n",
            "Epoch 47/100\n",
            "1033/1033 [==============================] - 3s 3ms/step - loss: 1.2948\n",
            "Epoch 48/100\n",
            "1033/1033 [==============================] - 5s 5ms/step - loss: 1.2971\n",
            "Epoch 49/100\n",
            "1033/1033 [==============================] - 3s 3ms/step - loss: 1.2994\n",
            "Epoch 50/100\n",
            "1033/1033 [==============================] - 3s 3ms/step - loss: 1.3017\n",
            "Epoch 51/100\n",
            "1033/1033 [==============================] - 4s 4ms/step - loss: 1.3040\n",
            "Epoch 52/100\n",
            "1033/1033 [==============================] - 5s 5ms/step - loss: 1.3062\n",
            "Epoch 53/100\n",
            "1033/1033 [==============================] - 4s 4ms/step - loss: 1.3085\n",
            "Epoch 54/100\n",
            "1033/1033 [==============================] - 4s 3ms/step - loss: 1.3107\n",
            "Epoch 55/100\n",
            "1033/1033 [==============================] - 5s 5ms/step - loss: 1.3129\n",
            "Epoch 56/100\n",
            "1033/1033 [==============================] - 4s 4ms/step - loss: 1.3151\n",
            "Epoch 57/100\n",
            "1033/1033 [==============================] - 4s 4ms/step - loss: 1.3173\n",
            "Epoch 58/100\n",
            "1033/1033 [==============================] - 4s 3ms/step - loss: 1.3196\n",
            "Epoch 59/100\n",
            "1033/1033 [==============================] - 5s 5ms/step - loss: 1.3218\n",
            "Epoch 60/100\n",
            "1033/1033 [==============================] - 4s 3ms/step - loss: 1.3240\n",
            "Epoch 61/100\n",
            "1033/1033 [==============================] - 3s 3ms/step - loss: 1.3263\n",
            "Epoch 62/100\n",
            "1033/1033 [==============================] - 4s 3ms/step - loss: 1.3284\n",
            "Epoch 63/100\n",
            "1033/1033 [==============================] - 5s 5ms/step - loss: 1.3306\n",
            "Epoch 64/100\n",
            "1033/1033 [==============================] - 3s 3ms/step - loss: 1.3327\n",
            "Epoch 65/100\n",
            "1033/1033 [==============================] - 4s 4ms/step - loss: 1.3348\n",
            "Epoch 66/100\n",
            "1033/1033 [==============================] - 4s 4ms/step - loss: 1.3369\n",
            "Epoch 67/100\n",
            "1033/1033 [==============================] - 4s 4ms/step - loss: 1.3389\n",
            "Epoch 68/100\n",
            "1033/1033 [==============================] - 3s 3ms/step - loss: 1.3409\n",
            "Epoch 69/100\n",
            "1033/1033 [==============================] - 3s 3ms/step - loss: 1.3429\n",
            "Epoch 70/100\n",
            "1033/1033 [==============================] - 5s 5ms/step - loss: 1.3448\n",
            "Epoch 71/100\n",
            "1033/1033 [==============================] - 4s 4ms/step - loss: 1.3467\n",
            "Epoch 72/100\n",
            "1033/1033 [==============================] - 4s 3ms/step - loss: 1.3486\n",
            "Epoch 73/100\n",
            "1033/1033 [==============================] - 4s 3ms/step - loss: 1.3504\n",
            "Epoch 74/100\n",
            "1033/1033 [==============================] - 5s 5ms/step - loss: 1.3522\n",
            "Epoch 75/100\n",
            "1033/1033 [==============================] - 3s 3ms/step - loss: 1.3540\n",
            "Epoch 76/100\n",
            "1033/1033 [==============================] - 3s 3ms/step - loss: 1.3557\n",
            "Epoch 77/100\n",
            "1033/1033 [==============================] - 4s 4ms/step - loss: 1.3574\n",
            "Epoch 78/100\n",
            "1033/1033 [==============================] - 5s 5ms/step - loss: 1.3590\n",
            "Epoch 79/100\n",
            "1033/1033 [==============================] - 4s 3ms/step - loss: 1.3606\n",
            "Epoch 80/100\n",
            "1033/1033 [==============================] - 3s 3ms/step - loss: 1.3621\n",
            "Epoch 81/100\n",
            "1033/1033 [==============================] - 4s 4ms/step - loss: 1.3636\n",
            "Epoch 82/100\n",
            "1033/1033 [==============================] - 4s 4ms/step - loss: 1.3651\n",
            "Epoch 83/100\n",
            "1033/1033 [==============================] - 3s 3ms/step - loss: 1.3665\n",
            "Epoch 84/100\n",
            "1033/1033 [==============================] - 3s 3ms/step - loss: 1.3679\n",
            "Epoch 85/100\n",
            "1033/1033 [==============================] - 5s 5ms/step - loss: 1.3693\n",
            "Epoch 86/100\n",
            "1033/1033 [==============================] - 4s 4ms/step - loss: 1.3706\n",
            "Epoch 87/100\n",
            "1033/1033 [==============================] - 4s 3ms/step - loss: 1.3719\n",
            "Epoch 88/100\n",
            "1033/1033 [==============================] - 4s 4ms/step - loss: 1.3732\n",
            "Epoch 89/100\n",
            "1033/1033 [==============================] - 6s 6ms/step - loss: 1.3744\n",
            "Epoch 90/100\n",
            "1033/1033 [==============================] - 5s 5ms/step - loss: 1.3756\n",
            "Epoch 91/100\n",
            "1033/1033 [==============================] - 5s 4ms/step - loss: 1.3768\n",
            "Epoch 92/100\n",
            "1033/1033 [==============================] - 6s 5ms/step - loss: 1.3780\n",
            "Epoch 93/100\n",
            "1033/1033 [==============================] - 4s 3ms/step - loss: 1.3791\n",
            "Epoch 94/100\n",
            "1033/1033 [==============================] - 4s 4ms/step - loss: 1.3803\n",
            "Epoch 95/100\n",
            "1033/1033 [==============================] - 4s 4ms/step - loss: 1.3814\n",
            "Epoch 96/100\n",
            "1033/1033 [==============================] - 5s 5ms/step - loss: 1.3824\n",
            "Epoch 97/100\n",
            "1033/1033 [==============================] - 4s 4ms/step - loss: 1.3835\n",
            "Epoch 98/100\n",
            "1033/1033 [==============================] - 4s 4ms/step - loss: 1.3845\n",
            "Epoch 99/100\n",
            "1033/1033 [==============================] - 5s 5ms/step - loss: 1.3855\n",
            "Epoch 100/100\n",
            "1033/1033 [==============================] - 4s 4ms/step - loss: 1.3865\n"
          ]
        }
      ]
    },
    {
      "cell_type": "markdown",
      "source": [
        "The model is trained and ready for predictions"
      ],
      "metadata": {
        "id": "5OR-j3FhjA4U"
      }
    },
    {
      "cell_type": "code",
      "source": [
        "#Make the LSTM Prediction\n",
        "y_pred= lstm.predict(X_test)\n",
        "errors = abs(y_pred - y_test)"
      ],
      "metadata": {
        "id": "PSHsxF1iMqcl",
        "colab": {
          "base_uri": "https://localhost:8080/"
        },
        "outputId": "fd7e15a2-80cf-4c1a-e5d5-0f21affe3710"
      },
      "execution_count": null,
      "outputs": [
        {
          "output_type": "stream",
          "name": "stdout",
          "text": [
            "26/26 [==============================] - 0s 2ms/step\n"
          ]
        }
      ]
    },
    {
      "cell_type": "markdown",
      "source": [
        "We want to see how well our prediction compared to our actual values"
      ],
      "metadata": {
        "id": "SXIaA4BOjGxT"
      }
    },
    {
      "cell_type": "code",
      "source": [
        "#Compare predicted values to true adjusted close value\n",
        "plt.plot(y_test, label='True Value')\n",
        "plt.plot(y_pred, label='LSTM Value')\n",
        "plt.title(\"Prediction by LSTM\")\n",
        "plt.xlabel('Time Scale')\n",
        "plt.ylabel('Scaled USD')\n",
        "plt.legend()\n",
        "plt.show()"
      ],
      "metadata": {
        "id": "AD6Vm1c5EH3n",
        "colab": {
          "base_uri": "https://localhost:8080/",
          "height": 472
        },
        "outputId": "3c507f01-a828-4497-9477-3d3510366b1f"
      },
      "execution_count": null,
      "outputs": [
        {
          "output_type": "display_data",
          "data": {
            "text/plain": [
              "<Figure size 640x480 with 1 Axes>"
            ],
            "image/png": "[encoded data removed]"
          },
          "metadata": {}
        }
      ]
    },
    {
      "cell_type": "markdown",
      "source": [
        "Based on the graph above, it seems the model made fairly accurate predictions. As mentioned, the accuracy will decrease the longer out the predictions are."
      ],
      "metadata": {
        "id": "TzVCo6OZjLBX"
      }
    },
    {
      "cell_type": "markdown",
      "source": [
        "Let's take a look at this data through the lens of cross-correlations"
      ],
      "metadata": {
        "id": "5zw61mtrV2_S"
      }
    },
    {
      "cell_type": "code",
      "source": [
        "import statsmodels.api as sm"
      ],
      "metadata": {
        "id": "dF0To8llTWOD"
      },
      "execution_count": null,
      "outputs": []
    },
    {
      "cell_type": "code",
      "source": [
        "#calculate cross correlation\n",
        "test = sm.tsa.stattools.ccf(y_test, y_pred, adjusted=False)"
      ],
      "metadata": {
        "id": "ZIRxazgUWH9H"
      },
      "execution_count": null,
      "outputs": []
    },
    {
      "cell_type": "code",
      "source": [
        "plt.plot(test)"
      ],
      "metadata": {
        "colab": {
          "base_uri": "https://localhost:8080/",
          "height": 448
        },
        "id": "YTtpwKVjWUxK",
        "outputId": "122c0564-6789-4ac3-d0c9-7e7845871a56"
      },
      "execution_count": null,
      "outputs": [
        {
          "output_type": "execute_result",
          "data": {
            "text/plain": [
              "[<matplotlib.lines.Line2D at 0x7f349828bb20>]"
            ]
          },
          "metadata": {},
          "execution_count": 39
        },
        {
          "output_type": "display_data",
          "data": {
            "text/plain": [
              "<Figure size 640x480 with 1 Axes>"
            ],
            "image/png": "[encoded data removed]"
          },
          "metadata": {}
        }
      ]
    },
    {
      "cell_type": "code",
      "source": [
        "from google.colab import drive\n",
        "drive.mount('/content/drive')"
      ],
      "metadata": {
        "colab": {
          "base_uri": "https://localhost:8080/"
        },
        "id": "mpgyLt8ST58j",
        "outputId": "02227c8e-e205-4952-a829-99791c070955"
      },
      "execution_count": null,
      "outputs": [
        {
          "output_type": "stream",
          "name": "stdout",
          "text": [
            "Drive already mounted at /content/drive; to attempt to forcibly remount, call drive.mount(\"/content/drive\", force_remount=True).\n"
          ]
        }
      ]
    },
    {
      "cell_type": "markdown",
      "source": [
        "Here we can see our model has high correlation at the beginning, which slowly goes down with time. In other words, the predictions become less accurate. Notice around the 600 mark in the graph 1 we have more deviation from the true values, this can be seen in graph 2.\n",
        "\n",
        "However, at a certain point the correlation goes up. It still is only 0 at the end."
      ],
      "metadata": {
        "id": "GaVU34qwXF1B"
      }
    },
    {
      "cell_type": "markdown",
      "source": [
        "## How do other models compare?\n",
        "\n"
      ],
      "metadata": {
        "id": "U1Mun8qeMtzU"
      }
    },
    {
      "cell_type": "markdown",
      "source": [
        "### Random Forest"
      ],
      "metadata": {
        "id": "WzMxU9IZfR8-"
      }
    },
    {
      "cell_type": "code",
      "source": [
        "timesplit= TimeSeriesSplit(n_splits=10)\n",
        "for train_index, test_index in timesplit.split(feature_transform):\n",
        "        X_train, X_test = feature_transform[:len(train_index)], feature_transform[len(train_index): (len(train_index)+len(test_index))]\n",
        "        y_train, y_test = output[:len(train_index)].values.ravel(), output[len(train_index): (len(train_index)+len(test_index))].values.ravel()"
      ],
      "metadata": {
        "id": "t4DB7HVmm2rh"
      },
      "execution_count": null,
      "outputs": []
    },
    {
      "cell_type": "code",
      "source": [
        "X_train = np.array(X_train)\n",
        "X_test = np.array(X_test)\n",
        "y_train = np.array(y_train)\n",
        "y_test = np.array(y_test)"
      ],
      "metadata": {
        "id": "upXYUc02pfM4"
      },
      "execution_count": null,
      "outputs": []
    },
    {
      "cell_type": "code",
      "source": [
        "print(\"Xtrain shape: \",X_train.shape)\n",
        "print(\"Xtest shape: \",X_test.shape)\n",
        "print(\"ytrain shape: \",y_train.shape)\n",
        "print(\"ytest shape: \",y_test.shape)"
      ],
      "metadata": {
        "colab": {
          "base_uri": "https://localhost:8080/"
        },
        "id": "TM_vlyj1k1au",
        "outputId": "a4f57236-2074-4395-ddd9-31767a0a4f70"
      },
      "execution_count": null,
      "outputs": [
        {
          "output_type": "stream",
          "name": "stdout",
          "text": [
            "Xtrain shape:  (8258, 4)\n",
            "Xtest shape:  (825, 4)\n",
            "ytrain shape:  (8258,)\n",
            "ytest shape:  (825,)\n"
          ]
        }
      ]
    },
    {
      "cell_type": "code",
      "source": [
        "from sklearn.ensemble import RandomForestRegressor"
      ],
      "metadata": {
        "id": "0sBReBC_k3gG"
      },
      "execution_count": null,
      "outputs": []
    },
    {
      "cell_type": "code",
      "source": [
        "rf = RandomForestRegressor(n_estimators = 1000, random_state = 100)"
      ],
      "metadata": {
        "id": "KDAulTl9k-rt"
      },
      "execution_count": null,
      "outputs": []
    },
    {
      "cell_type": "code",
      "source": [
        "rf.fit(X_train, y_train)"
      ],
      "metadata": {
        "colab": {
          "base_uri": "https://localhost:8080/",
          "height": 75
        },
        "id": "9AMO9m2Xk_34",
        "outputId": "e676fe57-753c-48c6-d159-f01f56fc944a"
      },
      "execution_count": null,
      "outputs": [
        {
          "output_type": "execute_result",
          "data": {
            "text/plain": [
              "RandomForestRegressor(n_estimators=1000, random_state=100)"
            ],
            "text/html": [
              "<style>#sk-container-id-1 {color: black;background-color: white;}#sk-container-id-1 pre{padding: 0;}#sk-container-id-1 div.sk-toggleable {background-color: white;}#sk-container-id-1 label.sk-toggleable__label {cursor: pointer;display: block;width: 100%;margin-bottom: 0;padding: 0.3em;box-sizing: border-box;text-align: center;}#sk-container-id-1 label.sk-toggleable__label-arrow:before {content: \"▸\";float: left;margin-right: 0.25em;color: #696969;}#sk-container-id-1 label.sk-toggleable__label-arrow:hover:before {color: black;}#sk-container-id-1 div.sk-estimator:hover label.sk-toggleable__label-arrow:before {color: black;}#sk-container-id-1 div.sk-toggleable__content {max-height: 0;max-width: 0;overflow: hidden;text-align: left;background-color: #f0f8ff;}#sk-container-id-1 div.sk-toggleable__content pre {margin: 0.2em;color: black;border-radius: 0.25em;background-color: #f0f8ff;}#sk-container-id-1 input.sk-toggleable__control:checked~div.sk-toggleable__content {max-height: 200px;max-width: 100%;overflow: auto;}#sk-container-id-1 input.sk-toggleable__control:checked~label.sk-toggleable__label-arrow:before {content: \"▾\";}#sk-container-id-1 div.sk-estimator input.sk-toggleable__control:checked~label.sk-toggleable__label {background-color: #d4ebff;}#sk-container-id-1 div.sk-label input.sk-toggleable__control:checked~label.sk-toggleable__label {background-color: #d4ebff;}#sk-container-id-1 input.sk-hidden--visually {border: 0;clip: rect(1px 1px 1px 1px);clip: rect(1px, 1px, 1px, 1px);height: 1px;margin: -1px;overflow: hidden;padding: 0;position: absolute;width: 1px;}#sk-container-id-1 div.sk-estimator {font-family: monospace;background-color: #f0f8ff;border: 1px dotted black;border-radius: 0.25em;box-sizing: border-box;margin-bottom: 0.5em;}#sk-container-id-1 div.sk-estimator:hover {background-color: #d4ebff;}#sk-container-id-1 div.sk-parallel-item::after {content: \"\";width: 100%;border-bottom: 1px solid gray;flex-grow: 1;}#sk-container-id-1 div.sk-label:hover label.sk-toggleable__label {background-color: #d4ebff;}#sk-container-id-1 div.sk-serial::before {content: \"\";position: absolute;border-left: 1px solid gray;box-sizing: border-box;top: 0;bottom: 0;left: 50%;z-index: 0;}#sk-container-id-1 div.sk-serial {display: flex;flex-direction: column;align-items: center;background-color: white;padding-right: 0.2em;padding-left: 0.2em;position: relative;}#sk-container-id-1 div.sk-item {position: relative;z-index: 1;}#sk-container-id-1 div.sk-parallel {display: flex;align-items: stretch;justify-content: center;background-color: white;position: relative;}#sk-container-id-1 div.sk-item::before, #sk-container-id-1 div.sk-parallel-item::before {content: \"\";position: absolute;border-left: 1px solid gray;box-sizing: border-box;top: 0;bottom: 0;left: 50%;z-index: -1;}#sk-container-id-1 div.sk-parallel-item {display: flex;flex-direction: column;z-index: 1;position: relative;background-color: white;}#sk-container-id-1 div.sk-parallel-item:first-child::after {align-self: flex-end;width: 50%;}#sk-container-id-1 div.sk-parallel-item:last-child::after {align-self: flex-start;width: 50%;}#sk-container-id-1 div.sk-parallel-item:only-child::after {width: 0;}#sk-container-id-1 div.sk-dashed-wrapped {border: 1px dashed gray;margin: 0 0.4em 0.5em 0.4em;box-sizing: border-box;padding-bottom: 0.4em;background-color: white;}#sk-container-id-1 div.sk-label label {font-family: monospace;font-weight: bold;display: inline-block;line-height: 1.2em;}#sk-container-id-1 div.sk-label-container {text-align: center;}#sk-container-id-1 div.sk-container {/* jupyter's `normalize.less` sets `[hidden] { display: none; }` but bootstrap.min.css set `[hidden] { display: none !important; }` so we also need the `!important` here to be able to override the default hidden behavior on the sphinx rendered scikit-learn.org. See: https://github.com/scikit-learn/scikit-learn/issues/21755 */display: inline-block !important;position: relative;}#sk-container-id-1 div.sk-text-repr-fallback {display: none;}</style><div id=\"sk-container-id-1\" class=\"sk-top-container\"><div class=\"sk-text-repr-fallback\"><pre>RandomForestRegressor(n_estimators=1000, random_state=100)</pre><b>In a Jupyter environment, please rerun this cell to show the HTML representation or trust the notebook. <br />On GitHub, the HTML representation is unable to render, please try loading this page with nbviewer.org.</b></div><div class=\"sk-container\" hidden><div class=\"sk-item\"><div class=\"sk-estimator sk-toggleable\"><input class=\"sk-toggleable__control sk-hidden--visually\" id=\"sk-estimator-id-1\" type=\"checkbox\" checked><label for=\"sk-estimator-id-1\" class=\"sk-toggleable__label sk-toggleable__label-arrow\">RandomForestRegressor</label><div class=\"sk-toggleable__content\"><pre>RandomForestRegressor(n_estimators=1000, random_state=100)</pre></div></div></div></div></div>"
            ]
          },
          "metadata": {},
          "execution_count": 31
        }
      ]
    },
    {
      "cell_type": "code",
      "source": [
        "predictions = rf.predict(X_test)\n",
        "errors = abs(predictions - y_test)"
      ],
      "metadata": {
        "id": "m4br98tmlEkW"
      },
      "execution_count": null,
      "outputs": []
    },
    {
      "cell_type": "code",
      "source": [
        "# Calculate mean absolute percentage error (MAPE)\n",
        "mape = 100 * (errors / y_test)\n",
        "\n",
        "# Calculate and display accuracy\n",
        "accuracy = 100 - np.mean(mape)\n",
        "print('Accuracy:', round(accuracy, 2), '%.')"
      ],
      "metadata": {
        "colab": {
          "base_uri": "https://localhost:8080/"
        },
        "id": "F9jEIyHMllZj",
        "outputId": "6a835e1f-4f7d-469d-ec3d-ccce474e3783"
      },
      "execution_count": null,
      "outputs": [
        {
          "output_type": "stream",
          "name": "stdout",
          "text": [
            "Accuracy: 61.21 %.\n"
          ]
        }
      ]
    },
    {
      "cell_type": "markdown",
      "source": [
        "Not a good accuracy, not compared to our original LSTM model"
      ],
      "metadata": {
        "id": "5CPq610VrLf4"
      }
    },
    {
      "cell_type": "code",
      "source": [
        "#Compare predicted values to true adjusted close value\n",
        "plt.plot(y_test, label='True Value')\n",
        "plt.plot(predictions, label='LSTM Value')\n",
        "plt.title(\"Prediction by LSTM\")\n",
        "plt.xlabel('Time Scale')\n",
        "plt.ylabel('Scaled USD')\n",
        "plt.legend()\n",
        "plt.show()"
      ],
      "metadata": {
        "id": "byUKkRLdqvoE",
        "colab": {
          "base_uri": "https://localhost:8080/",
          "height": 472
        },
        "outputId": "c7560d50-d79a-488e-ae49-6863f77fdfe6"
      },
      "execution_count": null,
      "outputs": [
        {
          "output_type": "display_data",
          "data": {
            "text/plain": [
              "<Figure size 640x480 with 1 Axes>"
            ],
            "image/png": "[encoded data removed]"
          },
          "metadata": {}
        }
      ]
    },
    {
      "cell_type": "markdown",
      "source": [
        "This is a result of random forest being a poor choice as the Random Forest Regressor is unable to discover trends that would enable it in extrpolating values that fall outside the training set [4]"
      ],
      "metadata": {
        "id": "0ni669JkqwEu"
      }
    },
    {
      "cell_type": "code",
      "source": [
        "#calculate cross correlation\n",
        "test = sm.tsa.stattools.ccf(y_test, predictions, adjusted=False)"
      ],
      "metadata": {
        "id": "DLl3NgXxY8gT"
      },
      "execution_count": null,
      "outputs": []
    },
    {
      "cell_type": "markdown",
      "source": [
        "### Conclusions"
      ],
      "metadata": {
        "id": "yHLJTt-e-E_n"
      }
    },
    {
      "cell_type": "markdown",
      "source": [
        "The Long Short-Term Memory model that we developed is semi functional at predicting stock changes and is mostly accurate with the true data. "
      ],
      "metadata": {
        "id": "5PM8YTh9aNml"
      }
    },
    {
      "cell_type": "markdown",
      "source": [
        "### References\n",
        "\n",
        "[1] https://scikit-learn.org/stable/modules/generated/sklearn.preprocessing.MinMaxScaler.html\n",
        "\n",
        "[2] https://scikit-learn.org/stable/modules/generated/sklearn.model_selection.TimeSeriesSplit.html\n",
        "\n",
        "[3] https://www.tensorflow.org/api_docs/python/tf/keras/utils/plot_model\n",
        "\n",
        "[4] https://neptune.ai/blog/random-forest-regression-when-does-it-fail-and-why"
      ],
      "metadata": {
        "id": "MnqSjmREhvcH"
      }
    }
  ]
}